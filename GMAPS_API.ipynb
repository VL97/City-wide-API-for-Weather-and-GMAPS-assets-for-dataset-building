{
 "cells": [
  {
   "cell_type": "code",
   "execution_count": 8,
   "metadata": {
    "collapsed": true
   },
   "outputs": [
    {
     "name": "stdout",
     "output_type": "stream",
     "text": [
      "page-break\n"
     ]
    },
    {
     "ename": "Exception",
     "evalue": "Some error encountered when querying! Status returned: OVER_QUERY_LIMIT",
     "output_type": "error",
     "traceback": [
      "\u001b[1;31m---------------------------------------------------------------------------\u001b[0m",
      "\u001b[1;31mException\u001b[0m                                 Traceback (most recent call last)",
      "\u001b[1;32m<ipython-input-8-b247491b1861>\u001b[0m in \u001b[0;36m<module>\u001b[1;34m\u001b[0m\n\u001b[0;32m     63\u001b[0m \u001b[1;31m#########################################\u001b[0m\u001b[1;33m\u001b[0m\u001b[1;33m\u001b[0m\u001b[1;33m\u001b[0m\u001b[0m\n\u001b[0;32m     64\u001b[0m \u001b[1;33m\u001b[0m\u001b[0m\n\u001b[1;32m---> 65\u001b[1;33m \u001b[0ma\u001b[0m\u001b[1;33m=\u001b[0m\u001b[0masset_finder\u001b[0m\u001b[1;33m(\u001b[0m\u001b[0masset\u001b[0m\u001b[1;33m)\u001b[0m\u001b[1;33m\u001b[0m\u001b[1;33m\u001b[0m\u001b[0m\n\u001b[0m\u001b[0;32m     66\u001b[0m \u001b[0mprint\u001b[0m\u001b[1;33m(\u001b[0m\u001b[1;34m\"ENDED\"\u001b[0m\u001b[1;33m)\u001b[0m\u001b[1;33m\u001b[0m\u001b[1;33m\u001b[0m\u001b[0m\n",
      "\u001b[1;32m<ipython-input-8-b247491b1861>\u001b[0m in \u001b[0;36masset_finder\u001b[1;34m(asset_type, next_token)\u001b[0m\n\u001b[0;32m     39\u001b[0m     \u001b[0mprint\u001b[0m\u001b[1;33m(\u001b[0m\u001b[1;34m\"page-break\"\u001b[0m\u001b[1;33m)\u001b[0m\u001b[1;33m\u001b[0m\u001b[1;33m\u001b[0m\u001b[0m\n\u001b[0;32m     40\u001b[0m \u001b[1;33m\u001b[0m\u001b[0m\n\u001b[1;32m---> 41\u001b[1;33m     \u001b[0mres_dic\u001b[0m\u001b[1;33m=\u001b[0m\u001b[0mquery\u001b[0m\u001b[1;33m(\u001b[0m\u001b[0mreq_url\u001b[0m\u001b[1;33m)\u001b[0m\u001b[1;33m\u001b[0m\u001b[1;33m\u001b[0m\u001b[0m\n\u001b[0m\u001b[0;32m     42\u001b[0m \u001b[1;33m\u001b[0m\u001b[0m\n\u001b[0;32m     43\u001b[0m     \u001b[0mdata_dic\u001b[0m\u001b[1;33m=\u001b[0m\u001b[1;33m{\u001b[0m\u001b[1;34m'name'\u001b[0m\u001b[1;33m:\u001b[0m\u001b[1;34m\"\"\u001b[0m\u001b[1;33m,\u001b[0m \u001b[1;34m'lat'\u001b[0m\u001b[1;33m:\u001b[0m\u001b[1;34m\"\"\u001b[0m\u001b[1;33m,\u001b[0m \u001b[1;34m'lng'\u001b[0m\u001b[1;33m:\u001b[0m\u001b[1;34m\"\"\u001b[0m\u001b[1;33m}\u001b[0m\u001b[1;33m\u001b[0m\u001b[1;33m\u001b[0m\u001b[0m\n",
      "\u001b[1;32m<ipython-input-8-b247491b1861>\u001b[0m in \u001b[0;36mquery\u001b[1;34m(url)\u001b[0m\n\u001b[0;32m     24\u001b[0m         \u001b[1;32mreturn\u001b[0m \u001b[0mres_dic\u001b[0m\u001b[1;33m\u001b[0m\u001b[1;33m\u001b[0m\u001b[0m\n\u001b[0;32m     25\u001b[0m     \u001b[1;32melse\u001b[0m\u001b[1;33m:\u001b[0m\u001b[1;33m\u001b[0m\u001b[1;33m\u001b[0m\u001b[0m\n\u001b[1;32m---> 26\u001b[1;33m         \u001b[1;32mraise\u001b[0m \u001b[0mException\u001b[0m\u001b[1;33m(\u001b[0m\u001b[1;34m\"Some error encountered when querying! Status returned: \"\u001b[0m\u001b[1;33m+\u001b[0m\u001b[0mres_dic\u001b[0m\u001b[1;33m[\u001b[0m\u001b[1;34m'status'\u001b[0m\u001b[1;33m]\u001b[0m\u001b[1;33m)\u001b[0m\u001b[1;33m\u001b[0m\u001b[1;33m\u001b[0m\u001b[0m\n\u001b[0m\u001b[0;32m     27\u001b[0m \u001b[1;33m\u001b[0m\u001b[0m\n\u001b[0;32m     28\u001b[0m \u001b[1;33m\u001b[0m\u001b[0m\n",
      "\u001b[1;31mException\u001b[0m: Some error encountered when querying! Status returned: OVER_QUERY_LIMIT"
     ]
    }
   ],
   "source": [
    "import requests\n",
    "import pandas as pd \n",
    "from datetime import date\n",
    "import os.path\n",
    "import json\n",
    "\n",
    "\n",
    "\n",
    "def query(url):\n",
    "\n",
    "\t#Tries 10 times befor token is activated by Google. Time vs API calls trade-off!!!!\n",
    "  \n",
    "    for i in range(10):\t\t\t\t\n",
    "        response = requests.get(url)\n",
    "        res_dic=response.json()                 #returns python dictionary not JSON!\n",
    "        \n",
    "        if(res_dic['status'] not in ('OK','ZERO_RESULTS')):\n",
    "            #print(\"failure,quering again!\")\n",
    "            pass\n",
    "        else:\n",
    "            break;\n",
    "            \n",
    "    if(res_dic['status'] in ('OK','ZERO_RESULTS')):\n",
    "        return res_dic\n",
    "    else:\n",
    "        raise Exception(\"Some error encountered when querying! Status returned: \"+res_dic['status'])\n",
    "     \n",
    "\n",
    "def asset_finder(asset_type, next_token=None):\n",
    "\n",
    "    apikey=PUT_YOUR_API_KEY_HERE    \n",
    "    url=\"https://maps.googleapis.com/maps/api/place/nearbysearch/json?\"\n",
    "\n",
    "    if(next_token is None):\n",
    "        req_url=url+\"location=\"+center+\"&radius=\"+radius+\"&type=\"+asset_type+\"&key=\"+apikey\n",
    "    else:\n",
    "        req_url=url+\"&key=\"+apikey+\"&pagetoken=\"+next_token\n",
    "\n",
    "    print(\"page-break\")\n",
    "    \n",
    "    res_dic=query(req_url)\n",
    "       \n",
    "    data_dic={'name':\"\", 'lat':\"\", 'lng':\"\"}\n",
    "\n",
    "    for i in range(len(res_dic['results'])):\n",
    "        data_dic['name']=res_dic['results'][i]['name']\n",
    "        data_dic['lat']=res_dic['results'][i]['geometry']['location']['lat']\n",
    "        data_dic['lng']=res_dic['results'][i]['geometry']['location']['lng']\n",
    "        print(data_dic)     \n",
    "        \n",
    "\n",
    "    if 'next_page_token' in list(res_dic.keys()):\n",
    "        print(\"Going to next page!\")\n",
    "        asset_finder(asset_type, next_token=res_dic['next_page_token'])\n",
    "        \n",
    "    \n",
    "    \n",
    "#PARAMETERS TO CHANGE\n",
    "#########################################\n",
    "radius=\"1000\"                                  #in mtrs\n",
    "asset=\"cafe\"                                   #valid assets: atm , bank, bar,  cafe, bus_station etc.\n",
    "center=\"12.971673,77.594595\"                   #current center from where assets are found, avoid changing!\n",
    "#########################################\n",
    "\n",
    "a=asset_finder(asset)\n",
    "print(\"ENDED\")"
   ]
  }
 ],
 "metadata": {
  "kernelspec": {
   "display_name": "Python 3",
   "language": "python",
   "name": "python3"
  },
  "language_info": {
   "codemirror_mode": {
    "name": "ipython",
    "version": 3
   },
   "file_extension": ".py",
   "mimetype": "text/x-python",
   "name": "python",
   "nbconvert_exporter": "python",
   "pygments_lexer": "ipython3",
   "version": "3.7.3"
  }
 },
 "nbformat": 4,
 "nbformat_minor": 2
}
